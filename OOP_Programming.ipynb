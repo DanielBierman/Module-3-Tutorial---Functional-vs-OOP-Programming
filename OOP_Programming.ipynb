{
 "cells": [
  {
   "cell_type": "code",
   "execution_count": null,
   "metadata": {},
   "outputs": [
    {
     "name": "stdout",
     "output_type": "stream",
     "text": [
      "[0, 0, 1, 1, 1, 2, 2]\n"
     ]
    }
   ],
   "source": [
    "#Author: Daniel Bierman\n",
    "def sort012(arr):\n",
    "    low = 0\n",
    "    high = len(arr) - 1\n",
    "    i = 0\n",
    "    \n",
    "    while i <= high:\n",
    "        if arr[i] == 0:\n",
    "            arr[i], arr[low] = arr[low], arr[i]\n",
    "            i += 1\n",
    "            low += 1\n",
    "        elif arr[i] == 2:\n",
    "            arr[i], arr[high] = arr[high], arr[i]\n",
    "            high -= 1\n",
    "        else:\n",
    "            i += 1\n",
    "\n",
    "arr = [1,0,1,2,2,0,1]\n",
    "sort012(arr)\n",
    "print(arr)"
   ]
  }
 ],
 "metadata": {
  "kernelspec": {
   "display_name": "Python 3",
   "language": "python",
   "name": "python3"
  },
  "language_info": {
   "codemirror_mode": {
    "name": "ipython",
    "version": 3
   },
   "file_extension": ".py",
   "mimetype": "text/x-python",
   "name": "python",
   "nbconvert_exporter": "python",
   "pygments_lexer": "ipython3",
   "version": "3.13.0"
  }
 },
 "nbformat": 4,
 "nbformat_minor": 2
}
