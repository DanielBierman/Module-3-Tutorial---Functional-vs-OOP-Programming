{
 "cells": [
  {
   "cell_type": "code",
   "execution_count": null,
   "metadata": {},
   "outputs": [
    {
     "name": "stdout",
     "output_type": "stream",
     "text": [
      "The number 4 is located at index 3\n"
     ]
    }
   ],
   "source": [
    "class Solution:\n",
    "    def binarysearch(self, arr, left, right, k):\n",
    "\n",
    "        while left <= right:\n",
    "            \n",
    "            mid = (left + right) // 2 \n",
    "\n",
    "            if arr[mid] == k:\n",
    "\n",
    "                return mid\n",
    "            if arr[mid] < k:\n",
    "\n",
    "                left  = mid + 1\n",
    "            else:\n",
    "\n",
    "                right = mid - 1\n",
    "        \n",
    "\n",
    "solution = Solution()\n",
    "\n",
    "arr = [1,2,3,4,5]\n",
    "k = 4\n",
    "\n",
    "index = solution.binarysearch(arr, 0, len(arr)-1, k)\n",
    "\n",
    "print(\"The number\", k, \"is located at index\", index)"
   ]
  }
 ],
 "metadata": {
  "kernelspec": {
   "display_name": "Python 3",
   "language": "python",
   "name": "python3"
  },
  "language_info": {
   "codemirror_mode": {
    "name": "ipython",
    "version": 3
   },
   "file_extension": ".py",
   "mimetype": "text/x-python",
   "name": "python",
   "nbconvert_exporter": "python",
   "pygments_lexer": "ipython3",
   "version": "3.13.0"
  }
 },
 "nbformat": 4,
 "nbformat_minor": 2
}
